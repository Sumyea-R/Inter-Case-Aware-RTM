{
 "cells": [
  {
   "cell_type": "code",
   "execution_count": 39,
   "id": "e89a9c7e",
   "metadata": {},
   "outputs": [],
   "source": [
    "from __future__ import division\n",
    "from keras.models import load_model\n",
    "import csv\n",
    "import copy\n",
    "import numpy as np\n",
    "import distance\n",
    "from jellyfish._jellyfish import damerau_levenshtein_distance\n",
    "import unicodecsv\n",
    "from sklearn import metrics\n",
    "from math import sqrt\n",
    "import time\n",
    "from datetime import datetime, timedelta\n",
    "import matplotlib.pyplot as plt\n",
    "from collections import Counter\n",
    "import pandas as pd\n",
    "import tensorflow as tf\n",
    "import pm4py"
   ]
  },
  {
   "cell_type": "code",
   "execution_count": 15,
   "id": "4fc7f86c",
   "metadata": {},
   "outputs": [],
   "source": [
    "# attributes that may differ based on data structure or settings\n",
    "dataset_local_path = \"/Users/sumyea/Desktop/Study/Study/SS23/MLAPM/Code/Inter_case_aware_RTM-master/data/\"\n",
    "model_local_path = \"Models_production/\"\n",
    "result_local_path = \"Results_production/\"\n",
    "equipment_attribute = 'Equipment ID'\n",
    "caseid_attribute = 'case:concept:name'\n",
    "caseid_attr = 'Order OID'\n",
    "arrived_timestamp_attribute = 'Arrived Timestamp'"
   ]
  },
  {
   "cell_type": "code",
   "execution_count": 16,
   "id": "09351ff3",
   "metadata": {},
   "outputs": [],
   "source": [
    "\"\"\"\n",
    "load dataset from eventlog\n",
    "\"\"\"\n",
    "df = pd.read_csv(\"production_mapped.csv\")"
   ]
  },
  {
   "cell_type": "code",
   "execution_count": 17,
   "id": "b26a76e8",
   "metadata": {},
   "outputs": [
    {
     "data": {
      "text/html": [
       "<div>\n",
       "<style scoped>\n",
       "    .dataframe tbody tr th:only-of-type {\n",
       "        vertical-align: middle;\n",
       "    }\n",
       "\n",
       "    .dataframe tbody tr th {\n",
       "        vertical-align: top;\n",
       "    }\n",
       "\n",
       "    .dataframe thead th {\n",
       "        text-align: right;\n",
       "    }\n",
       "</style>\n",
       "<table border=\"1\" class=\"dataframe\">\n",
       "  <thead>\n",
       "    <tr style=\"text-align: right;\">\n",
       "      <th></th>\n",
       "      <th>Case ID</th>\n",
       "      <th>Activity</th>\n",
       "      <th>Complete Timestamp</th>\n",
       "    </tr>\n",
       "  </thead>\n",
       "  <tbody>\n",
       "    <tr>\n",
       "      <th>0</th>\n",
       "      <td>0</td>\n",
       "      <td>0</td>\n",
       "      <td>2012-01-02 01:15:00</td>\n",
       "    </tr>\n",
       "    <tr>\n",
       "      <th>1</th>\n",
       "      <td>1</td>\n",
       "      <td>1</td>\n",
       "      <td>2012-01-02 04:50:00</td>\n",
       "    </tr>\n",
       "    <tr>\n",
       "      <th>2</th>\n",
       "      <td>2</td>\n",
       "      <td>2</td>\n",
       "      <td>2012-01-02 07:00:00</td>\n",
       "    </tr>\n",
       "    <tr>\n",
       "      <th>3</th>\n",
       "      <td>3</td>\n",
       "      <td>3</td>\n",
       "      <td>2012-01-02 09:30:00</td>\n",
       "    </tr>\n",
       "    <tr>\n",
       "      <th>4</th>\n",
       "      <td>1</td>\n",
       "      <td>4</td>\n",
       "      <td>2012-01-02 11:00:00</td>\n",
       "    </tr>\n",
       "    <tr>\n",
       "      <th>...</th>\n",
       "      <td>...</td>\n",
       "      <td>...</td>\n",
       "      <td>...</td>\n",
       "    </tr>\n",
       "    <tr>\n",
       "      <th>4538</th>\n",
       "      <td>216</td>\n",
       "      <td>0</td>\n",
       "      <td>2012-03-30 11:50:00</td>\n",
       "    </tr>\n",
       "    <tr>\n",
       "      <th>4539</th>\n",
       "      <td>207</td>\n",
       "      <td>7</td>\n",
       "      <td>2012-03-30 12:00:00</td>\n",
       "    </tr>\n",
       "    <tr>\n",
       "      <th>4540</th>\n",
       "      <td>157</td>\n",
       "      <td>3</td>\n",
       "      <td>2012-03-30 12:46:00</td>\n",
       "    </tr>\n",
       "    <tr>\n",
       "      <th>4541</th>\n",
       "      <td>171</td>\n",
       "      <td>1</td>\n",
       "      <td>2012-03-31 01:00:00</td>\n",
       "    </tr>\n",
       "    <tr>\n",
       "      <th>4542</th>\n",
       "      <td>220</td>\n",
       "      <td>2</td>\n",
       "      <td>2012-03-31 05:45:00</td>\n",
       "    </tr>\n",
       "  </tbody>\n",
       "</table>\n",
       "<p>4543 rows × 3 columns</p>\n",
       "</div>"
      ],
      "text/plain": [
       "      Case ID  Activity   Complete Timestamp\n",
       "0           0         0  2012-01-02 01:15:00\n",
       "1           1         1  2012-01-02 04:50:00\n",
       "2           2         2  2012-01-02 07:00:00\n",
       "3           3         3  2012-01-02 09:30:00\n",
       "4           1         4  2012-01-02 11:00:00\n",
       "...       ...       ...                  ...\n",
       "4538      216         0  2012-03-30 11:50:00\n",
       "4539      207         7  2012-03-30 12:00:00\n",
       "4540      157         3  2012-03-30 12:46:00\n",
       "4541      171         1  2012-03-31 01:00:00\n",
       "4542      220         2  2012-03-31 05:45:00\n",
       "\n",
       "[4543 rows x 3 columns]"
      ]
     },
     "execution_count": 17,
     "metadata": {},
     "output_type": "execute_result"
    }
   ],
   "source": [
    "df = df[['Case ID', 'Activity', 'Complete Timestamp']]\n",
    "df"
   ]
  },
  {
   "cell_type": "code",
   "execution_count": 18,
   "id": "68aa9e44",
   "metadata": {},
   "outputs": [],
   "source": [
    "\"\"\"\n",
    "initialize variables\n",
    "\"\"\"\n",
    "\n",
    "lines = [] #these are all the activity sequence\n",
    "case_ids = []\n",
    "time_seqs = []  # relative time since previous event\n",
    "time_seqs2 = [] # relative time since case start\n",
    "time_seqs3 = [] # absolute time of previous event\n",
    "\n",
    "#helper variables\n",
    "last_case = ''\n",
    "first_line = True\n",
    "num_lines = 0\n",
    "case_start_time = None\n",
    "last_event_time = None\n",
    "ascii_offset = 161"
   ]
  },
  {
   "cell_type": "code",
   "execution_count": 19,
   "id": "87837b51",
   "metadata": {},
   "outputs": [],
   "source": [
    "def create_activity_time_sequence(df:pd.DataFrame, lines, case_ids, time_seqs, time_seqs2, time_seqs3, last_case, first_line, num_lines, case_start_time, last_event_time):\n",
    "    \n",
    "    \"\"\"\n",
    "    Creates activity and time sequence from the data.\n",
    "\n",
    "    Args:\n",
    "        df: A dataframe containing the activity and timestamp\n",
    "        lines: An empty list to save the acitivity sequence\n",
    "        case_ids: An empty list to record the case ids\n",
    "        time_seqs: An empty list to save the time sequences (relative time since previous event)\n",
    "        time_seqs2: An empty list to save the time sequences (relative time since case start)\n",
    "        time_seqs3: An empty list to record the time sequences (absolute time of previous event)\n",
    "        last_case: A string to save the last executed case for the loop\n",
    "        first_line: A boolean value to indicate the start of a sequence\n",
    "        num_lines: An integer value to indicate number of lines\n",
    "        case_start_time: A datetime object to represent start of a sequence\n",
    "        last_event_time: A datetime object to represent the end time of last event\n",
    "\n",
    "    Returns:\n",
    "        `lines`, `time_seqs`, `time_seqs2`, `time_seqs3`, `num_lines`\n",
    "    \"\"\"\n",
    "    line = ''\n",
    "    times = []\n",
    "    times2 = []\n",
    "    times3 = []\n",
    "    \n",
    "    for index, row in df.iterrows():\n",
    "        t = time.strptime(row[2], \"%Y-%m-%d %H:%M:%S\") #creates a datetime object from row[2]\n",
    "        #t = time.strptime(row[2], \"%d/%m/%y %H:%M\") #for toy\n",
    "        if row[0]!=last_case:\n",
    "            case_ids.append(row[0]) \n",
    "            case_start_time = t\n",
    "            last_event_time = t\n",
    "            last_case = row[0]\n",
    "            if not first_line:\n",
    "                lines.append(line)\n",
    "                time_seqs.append(times)\n",
    "                time_seqs2.append(times2)\n",
    "                time_seqs3.append(times3)\n",
    "            line = ''\n",
    "            times = []\n",
    "            times2 = []\n",
    "            times3 = []\n",
    "            num_lines+=1\n",
    "        line+=chr(int(row[1])+ascii_offset)\n",
    "        time_since_last_event = datetime.fromtimestamp(time.mktime(t))-datetime.fromtimestamp(time.mktime(last_event_time))\n",
    "        time_since_case_start = datetime.fromtimestamp(time.mktime(t))-datetime.fromtimestamp(time.mktime(case_start_time))\n",
    "        midnight = datetime.fromtimestamp(time.mktime(t)).replace(hour=0, minute=0, second=0, microsecond=0)\n",
    "        time_since_midnight = datetime.fromtimestamp(time.mktime(t))-midnight\n",
    "        time_diff = 86400 * time_since_last_event.days + time_since_last_event.seconds\n",
    "        time_diff2 = 86400 * time_since_case_start.days + time_since_case_start.seconds\n",
    "        times.append(time_diff)\n",
    "        times2.append(time_diff2)\n",
    "        times3.append(datetime.fromtimestamp(time.mktime(t)))\n",
    "        last_event_time = t\n",
    "        first_line = False\n",
    "    lines.append(line)\n",
    "    time_seqs.append(times)\n",
    "    time_seqs2.append(times2)\n",
    "    time_seqs3.append(times3)\n",
    "    num_lines+=1\n",
    "    \n",
    "    return lines, case_ids, time_seqs, time_seqs2, time_seqs3, num_lines"
   ]
  },
  {
   "cell_type": "code",
   "execution_count": 20,
   "id": "3fef1f15",
   "metadata": {},
   "outputs": [],
   "source": [
    "lines, case_ids, time_seqs, time_seqs2, time_seqs3, num_lines = create_activity_time_sequence(df, lines, case_ids, time_seqs, time_seqs2, time_seqs3, last_case, first_line, num_lines, case_start_time, last_event_time)"
   ]
  },
  {
   "cell_type": "code",
   "execution_count": 171,
   "id": "d06fa95a",
   "metadata": {},
   "outputs": [
    {
     "name": "stdout",
     "output_type": "stream",
     "text": [
      "[[0, 660, 180, -780, 660], [0, 660, 60, 60, 180], [0, 660, 120, 180, 120]]\n"
     ]
    }
   ],
   "source": [
    "print(time_seqs)\n",
    "#print(time_seqs2)"
   ]
  },
  {
   "cell_type": "code",
   "execution_count": 173,
   "id": "2baec178",
   "metadata": {},
   "outputs": [
    {
     "name": "stdout",
     "output_type": "stream",
     "text": [
      "[[datetime.datetime(2023, 12, 4, 16, 1), datetime.datetime(2023, 12, 4, 16, 12), datetime.datetime(2023, 12, 4, 16, 15), datetime.datetime(2023, 12, 4, 16, 2), datetime.datetime(2023, 12, 4, 16, 13), datetime.datetime(2023, 12, 4, 16, 2), datetime.datetime(2023, 12, 4, 16, 13), datetime.datetime(2023, 12, 4, 16, 14), datetime.datetime(2023, 12, 4, 16, 15), datetime.datetime(2023, 12, 4, 16, 18), datetime.datetime(2023, 12, 4, 16, 2), datetime.datetime(2023, 12, 4, 16, 13), datetime.datetime(2023, 12, 4, 16, 15), datetime.datetime(2023, 12, 4, 16, 18), datetime.datetime(2023, 12, 4, 16, 20)], [datetime.datetime(2023, 12, 4, 16, 1), datetime.datetime(2023, 12, 4, 16, 12), datetime.datetime(2023, 12, 4, 16, 15), datetime.datetime(2023, 12, 4, 16, 2), datetime.datetime(2023, 12, 4, 16, 13), datetime.datetime(2023, 12, 4, 16, 2), datetime.datetime(2023, 12, 4, 16, 13), datetime.datetime(2023, 12, 4, 16, 14), datetime.datetime(2023, 12, 4, 16, 15), datetime.datetime(2023, 12, 4, 16, 18), datetime.datetime(2023, 12, 4, 16, 2), datetime.datetime(2023, 12, 4, 16, 13), datetime.datetime(2023, 12, 4, 16, 15), datetime.datetime(2023, 12, 4, 16, 18), datetime.datetime(2023, 12, 4, 16, 20)], [datetime.datetime(2023, 12, 4, 16, 1), datetime.datetime(2023, 12, 4, 16, 12), datetime.datetime(2023, 12, 4, 16, 15), datetime.datetime(2023, 12, 4, 16, 2), datetime.datetime(2023, 12, 4, 16, 13), datetime.datetime(2023, 12, 4, 16, 2), datetime.datetime(2023, 12, 4, 16, 13), datetime.datetime(2023, 12, 4, 16, 14), datetime.datetime(2023, 12, 4, 16, 15), datetime.datetime(2023, 12, 4, 16, 18), datetime.datetime(2023, 12, 4, 16, 2), datetime.datetime(2023, 12, 4, 16, 13), datetime.datetime(2023, 12, 4, 16, 15), datetime.datetime(2023, 12, 4, 16, 18), datetime.datetime(2023, 12, 4, 16, 20)]]\n"
     ]
    }
   ],
   "source": [
    "print(time_seqs3)"
   ]
  },
  {
   "cell_type": "code",
   "execution_count": 21,
   "id": "fc28741a",
   "metadata": {},
   "outputs": [],
   "source": [
    "def get_divisors(time_seqs, time_seqs2):\n",
    "    \"\"\"\n",
    "    Calculates average time between events and average time between current and first events\n",
    "    \"\"\"\n",
    "    \n",
    "    divisor = np.mean([item for sublist in time_seqs for item in sublist]) #average time between events\n",
    "    print('divisor: {}'.format(divisor))\n",
    "    divisor2 = np.mean([item for sublist in time_seqs2 for item in sublist]) #average time between current and first events\n",
    "    print('divisor2: {}'.format(divisor2))\n",
    "    divisor3 = np.mean(list(map(lambda x: np.mean(list(map(lambda y: x[len(x)-1]-y, x))), time_seqs2)))\n",
    "    print('divisor3: {}'.format(divisor3))\n",
    "    \n",
    "    return divisor, divisor2, divisor3"
   ]
  },
  {
   "cell_type": "code",
   "execution_count": 22,
   "id": "03a2fd24",
   "metadata": {},
   "outputs": [
    {
     "name": "stdout",
     "output_type": "stream",
     "text": [
      "divisor: 130.84305524983492\n",
      "divisor2: 147.86704820603126\n",
      "divisor3: 69.35168485999051\n"
     ]
    }
   ],
   "source": [
    "divisor, divisor2, divisor3 = get_divisors(time_seqs, time_seqs2)"
   ]
  },
  {
   "cell_type": "code",
   "execution_count": 23,
   "id": "8dac2c03",
   "metadata": {},
   "outputs": [],
   "source": [
    "\"\"\"\n",
    "Create three different folds from the activity and time sequences. \n",
    "The first two fold for training the LSTM model, the thrid fold for prediction.\n",
    "\"\"\"\n",
    "\n",
    "def get_elements_per_fold(num_lines):\n",
    "    return int(round(num_lines/3))\n",
    "\n",
    "def create_fold(lines, case_ids, time_seqs, time_seqs2, time_seqs3, elems_per_fold, n):\n",
    "    if(n*elems_per_fold < len(lines)):\n",
    "        k = n*elems_per_fold\n",
    "    else:\n",
    "        k = len(lines)\n",
    "    fold = lines[(n-1)*elems_per_fold:k]\n",
    "    fold_c = case_ids[(n-1)*elems_per_fold:k]\n",
    "    fold_t = time_seqs[(n-1)*elems_per_fold:k]\n",
    "    fold_t2 = time_seqs2[(n-1)*elems_per_fold:k]\n",
    "    fold_t3 = time_seqs3[(n-1)*elems_per_fold:k]\n",
    "    \n",
    "    return fold, fold_c, fold_t, fold_t2, fold_t3"
   ]
  },
  {
   "cell_type": "code",
   "execution_count": 24,
   "id": "d2ce93a9",
   "metadata": {},
   "outputs": [],
   "source": [
    "elems_per_fold = get_elements_per_fold(num_lines)\n",
    "fold1, fold1_c, fold1_t, fold1_t2, fold1_t3 = create_fold(lines, case_ids, time_seqs, time_seqs2, time_seqs3, elems_per_fold, 1)\n",
    "fold2, fold2_c, fold2_t, fold2_t2, fold2_t3 = create_fold(lines, case_ids, time_seqs, time_seqs2, time_seqs3, elems_per_fold, 2)\n",
    "fold3, fold3_c, fold3_t, fold3_t2, fold3_t3 = create_fold(lines, case_ids, time_seqs, time_seqs2, time_seqs3, elems_per_fold, 3)\n",
    "\n",
    "lines = fold1 + fold2\n",
    "lines_t = fold1_t + fold2_t\n",
    "lines_t2 = fold1_t2 + fold2_t2"
   ]
  },
  {
   "cell_type": "code",
   "execution_count": 25,
   "id": "d7592825",
   "metadata": {},
   "outputs": [],
   "source": [
    "step = 1\n",
    "softness = 0\n",
    "lines = list(map(lambda x: x+'!',lines)) #put delimiter symbol\n",
    "max_len = max(map(lambda x: len(x),lines)) #find maximum line size\n",
    "\n",
    "def get_total_and_target_chars(lines):\n",
    "    \"\"\"\n",
    "    This function finds out all possible characters for events and annotates them with numbers,\n",
    "    finds out all target characters for prediction,\n",
    "    creates four different dictionaries from total characters and target characters.\n",
    "    \"\"\"\n",
    "    \n",
    "    total_chars = map(lambda x: set(x),lines)\n",
    "    total_chars = list(set().union(*total_chars))\n",
    "    total_chars.sort()\n",
    "    target_chars = copy.copy(total_chars)\n",
    "    total_chars.remove('!')\n",
    "    print('total chars: {}, target chars: {}'.format(len(total_chars), len(target_chars)))\n",
    "    char_indices = dict((c, i) for i, c in enumerate(total_chars))\n",
    "    indices_char = dict((i, c) for i, c in enumerate(total_chars))\n",
    "    target_char_indices = dict((c, i) for i, c in enumerate(target_chars))\n",
    "    target_indices_char = dict((i, c) for i, c in enumerate(target_chars))\n",
    "    \n",
    "    return total_chars, target_chars, char_indices, indices_char, target_char_indices, target_indices_char"
   ]
  },
  {
   "cell_type": "code",
   "execution_count": 26,
   "id": "cb64cb36",
   "metadata": {},
   "outputs": [
    {
     "name": "stdout",
     "output_type": "stream",
     "text": [
      "total chars: 28, target chars: 29\n"
     ]
    }
   ],
   "source": [
    "total_chars, target_chars, char_indices, indices_char, target_char_indices, target_indices_char = get_total_and_target_chars(lines)"
   ]
  },
  {
   "cell_type": "code",
   "execution_count": 27,
   "id": "be8db38a",
   "metadata": {},
   "outputs": [],
   "source": [
    "lines = fold1+fold2+fold3\n",
    "case_ids = fold1_c + fold2_c+fold3_c\n",
    "lines_t = fold1_t+fold2_t+fold3_t\n",
    "lines_t2 = fold1_t2+fold2_t2+fold3_t2\n",
    "lines_t3 = fold1_t3+fold2_t3+fold3_t3"
   ]
  },
  {
   "cell_type": "code",
   "execution_count": 29,
   "id": "87251de3",
   "metadata": {},
   "outputs": [
    {
     "name": "stdout",
     "output_type": "stream",
     "text": [
      "Metal device set to: Apple M1\n"
     ]
    },
    {
     "name": "stderr",
     "output_type": "stream",
     "text": [
      "2023-06-25 19:16:06.650354: I tensorflow/core/common_runtime/pluggable_device/pluggable_device_factory.cc:306] Could not identify NUMA node of platform GPU ID 0, defaulting to 0. Your kernel may not have been built with NUMA support.\n",
      "2023-06-25 19:16:06.651931: I tensorflow/core/common_runtime/pluggable_device/pluggable_device_factory.cc:272] Created TensorFlow device (/job:localhost/replica:0/task:0/device:GPU:0 with 0 MB memory) -> physical PluggableDevice (device: 0, name: METAL, pci bus id: <undefined>)\n"
     ]
    }
   ],
   "source": [
    "# load model, set this to the model generated by train.py\n",
    "# choose the model which was generated on the last epoch\n",
    "model = load_model(model_local_path+'model_16-1.40.h5')"
   ]
  },
  {
   "cell_type": "code",
   "execution_count": 30,
   "id": "8aacb442",
   "metadata": {},
   "outputs": [],
   "source": [
    "def encode(sentence, times, times3, max_len=max_len):\n",
    "    '''\n",
    "    This function encodes the input for the trained LSTM model \n",
    "    '''\n",
    "    \n",
    "    num_features = len(total_chars)+5\n",
    "    X = np.zeros((1, max_len, num_features), dtype=np.float32)\n",
    "    leftpad = max_len-len(sentence)\n",
    "    times2 = np.cumsum(times)\n",
    "    for t, char in enumerate(sentence):\n",
    "        midnight = times3[t].replace(hour=0, minute=0, second=0, microsecond=0)\n",
    "        time_since_midnight = times3[t]-midnight\n",
    "        multiset_abstraction = Counter(sentence[:t+1])\n",
    "        for c in total_chars:\n",
    "            if c==char:\n",
    "                X[0, t+leftpad, char_indices[c]] = 1\n",
    "        X[0, t+leftpad, len(total_chars)] = t+1\n",
    "        X[0, t+leftpad, len(total_chars)+1] = times[t]/divisor\n",
    "        X[0, t+leftpad, len(total_chars)+2] = times2[t]/divisor2\n",
    "        #print(times[t]/divisor, times2[t]/divisor2, time_since_midnight.seconds/86400, times3[t].weekday()/7)\n",
    "        X[0, t+leftpad, len(total_chars)+3] = time_since_midnight.seconds/86400\n",
    "        X[0, t+leftpad, len(total_chars)+4] = times3[t].weekday()/7\n",
    "        #print(times3[t], midnight)\n",
    "    return X"
   ]
  },
  {
   "cell_type": "code",
   "execution_count": 31,
   "id": "f2b077fc",
   "metadata": {},
   "outputs": [],
   "source": [
    "def getSymbol(predictions):\n",
    "\n",
    "    maxPrediction = 0\n",
    "    maxindice = 0\n",
    "    symbol = ''\n",
    "    i = 0;\n",
    "    for prediction in predictions:\n",
    "        if(prediction>=maxPrediction):\n",
    "            maxPrediction = prediction\n",
    "            symbol = target_indices_char[i]\n",
    "            maxindice = i\n",
    "        i += 1\n",
    "    return symbol, maxPrediction"
   ]
  },
  {
   "cell_type": "code",
   "execution_count": 30,
   "id": "c1eba8ff",
   "metadata": {},
   "outputs": [
    {
     "name": "stdout",
     "output_type": "stream",
     "text": [
      "2 2\n"
     ]
    }
   ],
   "source": [
    "print(len(lines_t3[0]), len(lines[0]))"
   ]
  },
  {
   "cell_type": "code",
   "execution_count": 32,
   "id": "dc26c1ba",
   "metadata": {},
   "outputs": [],
   "source": [
    "# make predictions with predicted as ground_truth\n",
    "\n",
    "predict_size = 1\n",
    "def make_prediction(lines, case_ids, lines_t, lines_t3):\n",
    "    with open(result_local_path+'result.csv', 'w') as csvfile:\n",
    "        spamwriter = csv.writer(csvfile, delimiter=',', quotechar='|', quoting=csv.QUOTE_MINIMAL)\n",
    "        spamwriter.writerow([\"case:concept:name\", \"Prefix length\", \"Groud truth\", \"Predicted\", \"Levenshtein\", \"Ground truth times\", \"Predicted times\", \"MAE\"])\n",
    "        for line, caseid, times, times3 in zip(lines, case_ids, lines_t, lines_t3):\n",
    "            #print(prefix_size)\n",
    "            \n",
    "            for prefix_size in range(2, max_len):\n",
    "                times.append(0)\n",
    "                if(prefix_size==2):\n",
    "                    cropped_line = ''.join(line[:prefix_size])\n",
    "                    cropped_times = times[:prefix_size]\n",
    "                    cropped_times3 = times3[:prefix_size]\n",
    "                else:\n",
    "                    cropped_line += prediction_char\n",
    "                    cropped_times.append(y_time)\n",
    "                    cropped_times3.append(cropped_times3[-1] + timedelta(seconds=y_t))\n",
    "                if '!' in cropped_line:\n",
    "                    continue # make no prediction for this case, since this case has ended already\n",
    "                ground_truth = ''.join(line[prefix_size:prefix_size+predict_size])\n",
    "                ground_truth_t = times[prefix_size:prefix_size+predict_size]\n",
    "                predicted = ''\n",
    "                predicted_t = []\n",
    "                enc = encode(cropped_line, cropped_times, cropped_times3)\n",
    "                #print(enc)\n",
    "                y = model.predict(enc, verbose=0)\n",
    "                y_char = y[0][0]\n",
    "                #print(y_char)\n",
    "                y_time = y[1][0][0]\n",
    "                prediction_char , i = getSymbol(y_char)\n",
    "                #print(i)\n",
    "                prediction= str(ord(prediction_char)-ascii_offset)\n",
    "                if y_time<0:\n",
    "                    y_time=0\n",
    "                y_t = y_time * divisor\n",
    "                #print(y_t, y_time)\n",
    "                predicted_t.append(y_t)\n",
    "                    \n",
    "                if prediction == '!': # end of case was just predicted, therefore, stop predicting further into the future\n",
    "                    print('! predicted, end case')\n",
    "                    continue\n",
    "                predicted += prediction\n",
    "                output = []\n",
    "                if len(ground_truth)>0:\n",
    "                    output.append(caseid)\n",
    "                    output.append(prefix_size)\n",
    "                    output.append(str(ord(ground_truth)-ascii_offset))\n",
    "                    output.append(str(predicted))\n",
    "                    output.append(1 - distance.nlevenshtein(prediction_char, ground_truth))\n",
    "                    output.append('; '.join(str(x) for x in ground_truth_t))\n",
    "                    output.append('; '.join(str(x) for x in predicted_t))\n",
    "                    if len(predicted_t)>len(ground_truth_t): # if predicted more events than length of case, only use needed number of events for time evaluation\n",
    "                        predicted_t = predicted_t[:len(ground_truth_t)]\n",
    "                    if len(ground_truth_t)>len(predicted_t): # if predicted less events than length of case, put 0 as placeholder prediction\n",
    "                        predicted_t.extend(range(len(ground_truth_t)-len(predicted_t)))\n",
    "                    if len(ground_truth_t)>0 and len(predicted_t)>0:\n",
    "                        #larger_value = max([ground_truth_t[0]], [predicted_t[0]])\n",
    "                        output.append(metrics.mean_absolute_error([ground_truth_t[0]], [predicted_t[0]]))\n",
    "                    else:\n",
    "                        output.append('')\n",
    "                        output.append('')\n",
    "                        output.append('')\n",
    "                    spamwriter.writerow(output)"
   ]
  },
  {
   "cell_type": "code",
   "execution_count": 33,
   "id": "17b7d0e8",
   "metadata": {},
   "outputs": [
    {
     "name": "stderr",
     "output_type": "stream",
     "text": [
      "2023-06-25 19:16:30.375331: W tensorflow/core/platform/profile_utils/cpu_utils.cc:128] Failed to get CPU frequency: 0 Hz\n",
      "2023-06-25 19:16:30.645653: I tensorflow/core/grappler/optimizers/custom_graph_optimizer_registry.cc:114] Plugin optimizer for device_type GPU is enabled.\n",
      "2023-06-25 19:16:30.754975: I tensorflow/core/grappler/optimizers/custom_graph_optimizer_registry.cc:114] Plugin optimizer for device_type GPU is enabled.\n",
      "2023-06-25 19:16:30.856597: I tensorflow/core/grappler/optimizers/custom_graph_optimizer_registry.cc:114] Plugin optimizer for device_type GPU is enabled.\n",
      "2023-06-25 19:16:30.865706: I tensorflow/core/grappler/optimizers/custom_graph_optimizer_registry.cc:114] Plugin optimizer for device_type GPU is enabled.\n"
     ]
    }
   ],
   "source": [
    "make_prediction(lines, case_ids, lines_t, lines_t3)"
   ]
  },
  {
   "cell_type": "code",
   "execution_count": 64,
   "id": "42d478fa",
   "metadata": {},
   "outputs": [],
   "source": [
    "result = pd.DataFrame(columns=['Case ID','Prefix length','Groud Truth','Predicted'])"
   ]
  },
  {
   "cell_type": "code",
   "execution_count": 65,
   "id": "253332e8",
   "metadata": {},
   "outputs": [
    {
     "name": "stderr",
     "output_type": "stream",
     "text": [
      "/var/folders/4w/t_pbdxrn4t5d7m2tkwj7hfrr0000gn/T/ipykernel_10991/3110024940.py:2: DeprecatedWarning: format_dataframe is deprecated as of 2.3.0 and will be removed in 3.0.0. the format_dataframe function does not need application anymore.\n",
      "  dataframe = pm4py.format_dataframe(dataframe, case_id='case:concept:name', activity_key='Activity', timestamp_key='Complete Timestamp')\n",
      "/Users/sumyea/Desktop/Study/Study/WS21-22/Introduction_to_Data_Science/Assignment/Part1/env/lib/python3.8/site-packages/pm4py/utils.py:486: UserWarning: the EventLog class has been deprecated and will be removed in a future release.\n",
      "  warnings.warn(\"the EventLog class has been deprecated and will be removed in a future release.\")\n"
     ]
    }
   ],
   "source": [
    "dataframe = df.rename( columns = {'Case ID': 'case:concept:name'})\n",
    "dataframe = pm4py.format_dataframe(dataframe, case_id='case:concept:name', activity_key='Activity', timestamp_key='Complete Timestamp')\n",
    "log = pm4py.convert_to_event_log(dataframe)"
   ]
  },
  {
   "cell_type": "code",
   "execution_count": 67,
   "id": "477f804d",
   "metadata": {},
   "outputs": [],
   "source": [
    "case_ids = []\n",
    "activities = []\n",
    "prefix = []\n",
    "for case in log:\n",
    "    for idx, event in enumerate(case):\n",
    "        case_ids.append(case.attributes['concept:name'])\n",
    "        prefix.append(idx)\n",
    "        if idx < len(case) - 1:\n",
    "            activities.append(case[idx+1]['Activity'])\n",
    "        else:\n",
    "            activities.append(None)\n",
    "result['Case ID'] = case_ids\n",
    "result['Groud truth'] = activities\n",
    "result['Prefix length'] = prefix\n",
    "result['Predicted'] = activities"
   ]
  },
  {
   "cell_type": "code",
   "execution_count": 60,
   "id": "c603aef0",
   "metadata": {},
   "outputs": [],
   "source": [
    "for idx, row in result.iterrows():\n",
    "    if row['Prefix length'] < 2:\n",
    "        result = result.drop(idx)"
   ]
  },
  {
   "cell_type": "code",
   "execution_count": 68,
   "id": "da70869d",
   "metadata": {},
   "outputs": [
    {
     "data": {
      "text/html": [
       "<div>\n",
       "<style scoped>\n",
       "    .dataframe tbody tr th:only-of-type {\n",
       "        vertical-align: middle;\n",
       "    }\n",
       "\n",
       "    .dataframe tbody tr th {\n",
       "        vertical-align: top;\n",
       "    }\n",
       "\n",
       "    .dataframe thead th {\n",
       "        text-align: right;\n",
       "    }\n",
       "</style>\n",
       "<table border=\"1\" class=\"dataframe\">\n",
       "  <thead>\n",
       "    <tr style=\"text-align: right;\">\n",
       "      <th></th>\n",
       "      <th>Case ID</th>\n",
       "      <th>Prefix length</th>\n",
       "      <th>Groud Truth</th>\n",
       "      <th>Predicted</th>\n",
       "      <th>Groud truth</th>\n",
       "    </tr>\n",
       "  </thead>\n",
       "  <tbody>\n",
       "    <tr>\n",
       "      <th>0</th>\n",
       "      <td>0</td>\n",
       "      <td>0</td>\n",
       "      <td>0.0</td>\n",
       "      <td>0.0</td>\n",
       "      <td>0.0</td>\n",
       "    </tr>\n",
       "    <tr>\n",
       "      <th>1</th>\n",
       "      <td>0</td>\n",
       "      <td>1</td>\n",
       "      <td>0.0</td>\n",
       "      <td>0.0</td>\n",
       "      <td>0.0</td>\n",
       "    </tr>\n",
       "    <tr>\n",
       "      <th>2</th>\n",
       "      <td>0</td>\n",
       "      <td>2</td>\n",
       "      <td>14.0</td>\n",
       "      <td>14.0</td>\n",
       "      <td>14.0</td>\n",
       "    </tr>\n",
       "    <tr>\n",
       "      <th>3</th>\n",
       "      <td>0</td>\n",
       "      <td>3</td>\n",
       "      <td>14.0</td>\n",
       "      <td>14.0</td>\n",
       "      <td>14.0</td>\n",
       "    </tr>\n",
       "    <tr>\n",
       "      <th>4</th>\n",
       "      <td>0</td>\n",
       "      <td>4</td>\n",
       "      <td>17.0</td>\n",
       "      <td>17.0</td>\n",
       "      <td>17.0</td>\n",
       "    </tr>\n",
       "    <tr>\n",
       "      <th>...</th>\n",
       "      <td>...</td>\n",
       "      <td>...</td>\n",
       "      <td>...</td>\n",
       "      <td>...</td>\n",
       "      <td>...</td>\n",
       "    </tr>\n",
       "    <tr>\n",
       "      <th>4538</th>\n",
       "      <td>98</td>\n",
       "      <td>9</td>\n",
       "      <td>14.0</td>\n",
       "      <td>14.0</td>\n",
       "      <td>14.0</td>\n",
       "    </tr>\n",
       "    <tr>\n",
       "      <th>4539</th>\n",
       "      <td>98</td>\n",
       "      <td>10</td>\n",
       "      <td>NaN</td>\n",
       "      <td>NaN</td>\n",
       "      <td>NaN</td>\n",
       "    </tr>\n",
       "    <tr>\n",
       "      <th>4540</th>\n",
       "      <td>99</td>\n",
       "      <td>0</td>\n",
       "      <td>14.0</td>\n",
       "      <td>14.0</td>\n",
       "      <td>14.0</td>\n",
       "    </tr>\n",
       "    <tr>\n",
       "      <th>4541</th>\n",
       "      <td>99</td>\n",
       "      <td>1</td>\n",
       "      <td>14.0</td>\n",
       "      <td>14.0</td>\n",
       "      <td>14.0</td>\n",
       "    </tr>\n",
       "    <tr>\n",
       "      <th>4542</th>\n",
       "      <td>99</td>\n",
       "      <td>2</td>\n",
       "      <td>NaN</td>\n",
       "      <td>NaN</td>\n",
       "      <td>NaN</td>\n",
       "    </tr>\n",
       "  </tbody>\n",
       "</table>\n",
       "<p>4543 rows × 5 columns</p>\n",
       "</div>"
      ],
      "text/plain": [
       "     Case ID  Prefix length  Groud Truth  Predicted  Groud truth\n",
       "0          0              0          0.0        0.0          0.0\n",
       "1          0              1          0.0        0.0          0.0\n",
       "2          0              2         14.0       14.0         14.0\n",
       "3          0              3         14.0       14.0         14.0\n",
       "4          0              4         17.0       17.0         17.0\n",
       "...      ...            ...          ...        ...          ...\n",
       "4538      98              9         14.0       14.0         14.0\n",
       "4539      98             10          NaN        NaN          NaN\n",
       "4540      99              0         14.0       14.0         14.0\n",
       "4541      99              1         14.0       14.0         14.0\n",
       "4542      99              2          NaN        NaN          NaN\n",
       "\n",
       "[4543 rows x 5 columns]"
      ]
     },
     "execution_count": 68,
     "metadata": {},
     "output_type": "execute_result"
    }
   ],
   "source": [
    "result"
   ]
  },
  {
   "cell_type": "code",
   "execution_count": 69,
   "id": "872b3255",
   "metadata": {},
   "outputs": [],
   "source": [
    "result.to_csv(result_local_path+'result_production.csv')"
   ]
  },
  {
   "cell_type": "code",
   "execution_count": null,
   "id": "9491bb51",
   "metadata": {},
   "outputs": [],
   "source": []
  }
 ],
 "metadata": {
  "kernelspec": {
   "display_name": "Python 3 (ipykernel)",
   "language": "python",
   "name": "python3"
  },
  "language_info": {
   "codemirror_mode": {
    "name": "ipython",
    "version": 3
   },
   "file_extension": ".py",
   "mimetype": "text/x-python",
   "name": "python",
   "nbconvert_exporter": "python",
   "pygments_lexer": "ipython3",
   "version": "3.8.13"
  }
 },
 "nbformat": 4,
 "nbformat_minor": 5
}
